{
    "cells": [
        {
            "cell_type": "markdown",
            "id": "ac622319",
            "metadata": {},
            "source": [
                "# Descriptive statistics problems"
            ]
        },
        {
            "cell_type": "markdown",
            "id": "5e0ab0d5",
            "metadata": {},
            "source": [
                "## Exercise 1\n",
                "\n",
                "We will use NumPy to obtain information to describe statistically.\n",
                "\n",
                "- Generate an array of 100 elements following a normal distribution.\n",
                "- Generate an array of 100 elements following a chi-square distribution with 3 degrees of freedom.\n",
                "- Calculate the main metrics and statistical measures that best describe the two vectors."
            ]
        },
        {
            "cell_type": "code",
            "execution_count": 19,
            "id": "34720ab6",
            "metadata": {},
            "outputs": [
                {
                    "data": {
                        "image/png": "[encoded data removed]",
                        "text/plain": [
                            "<Figure size 640x480 with 1 Axes>"
                        ]
                    },
                    "metadata": {},
                    "output_type": "display_data"
                }
            ],
            "source": [
                "import numpy as np\n",
                "import matplotlib.pyplot as plt\n",
                "\n",
                "random_normal=np.random.normal(size=10000)\n",
                "random_chi=np.random.chisquare(1, size=10000)\n",
                "\n",
                "plt.hist(random_normal, bins=30, alpha=0.5, density=True, label='Normal distribution')\n",
                "plt.hist(random_chi, bins=60, alpha=0.5, density=True, label='Chi-squared distribution')\n",
                "plt.legend(loc='best')\n",
                "plt.show()"
            ]
        },
        {
            "cell_type": "markdown",
            "id": "23337d89",
            "metadata": {},
            "source": [
                "### Central tendency\n",
                "\n",
                "#### Mean"
            ]
        },
        {
            "cell_type": "code",
            "execution_count": 35,
            "id": "dd5b1cfb",
            "metadata": {},
            "outputs": [
                {
                    "name": "stdout",
                    "output_type": "stream",
                    "text": [
                        "Normal distribution mean: 0.0\n",
                        "NChi-squared distribution mean: 1.0\n"
                    ]
                }
            ],
            "source": [
                "def get_mean(data: list) -> float:\n",
                "    '''Calculates and returns mean of list.'''\n",
                "\n",
                "    list_length=0\n",
                "    list_sum=0\n",
                "\n",
                "    for n in data:\n",
                "        list_sum+=n\n",
                "        list_length+=1\n",
                "\n",
                "    return list_sum / list_length\n",
                "\n",
                "print(f'Normal distribution mean: {get_mean(random_normal):.1f}')\n",
                "print(f'Chi-squared distribution mean: {get_mean(random_chi):.1f}')"
            ]
        },
        {
            "cell_type": "markdown",
            "id": "1ed2ffbd",
            "metadata": {},
            "source": [
                "#### Median"
            ]
        },
        {
            "cell_type": "code",
            "execution_count": 40,
            "id": "3c08bf32",
            "metadata": {},
            "outputs": [
                {
                    "name": "stdout",
                    "output_type": "stream",
                    "text": [
                        "5000, 5001\n",
                        "Normal median: 0.007215139247284092\n",
                        "5000, 5001\n",
                        "Chi-squared median: 0.44844659266954634\n"
                    ]
                }
            ],
            "source": [
                "def get_median(data: list) -> float:\n",
                "    '''Finds and return median of list'''\n",
                "\n",
                "    # Sort the list of numbers\n",
                "    for n in data:\n",
                "        for i in range(len(data) - 1):\n",
                "            if data[i] > data[i + 1]:\n",
                "                tmp=data[i]\n",
                "                data[i]=data[i+1]\n",
                "                data[i+1]=tmp\n",
                "\n",
                "    # Get middle number for odd length list\n",
                "    if len(data) % 2 == 1:\n",
                "        median_index=(len(data) + 1)/2\n",
                "        list_median=data[median_index]\n",
                "\n",
                "    # Get middle number index for even length list\n",
                "    elif len(data) % 2 == 0:\n",
                "        left_index=len(data) // 2\n",
                "        right_index=(len(data) // 2) + 1\n",
                "        list_median=(data[left_index] + data[right_index]) / 2\n",
                "\n",
                "    return list_median\n",
                "\n",
                "print(f'Normal median: {get_median(random_normal)}')\n",
                "print(f'Chi-squared median: {get_median(random_chi)}')"
            ]
        },
        {
            "cell_type": "markdown",
            "id": "46c70c3d",
            "metadata": {},
            "source": [
                "### Exercise 2\n",
                "\n",
                "Write a Python program to calculate the standard deviation of the following data:\n",
                "\n",
                "```py\n",
                "data = [4, 2, 5, 8, 6]\n",
                "```\n",
                "\n",
                "#### Easy solution with numpy"
            ]
        },
        {
            "cell_type": "code",
            "execution_count": 10,
            "id": "d590308e",
            "metadata": {},
            "outputs": [
                {
                    "name": "stdout",
                    "output_type": "stream",
                    "text": [
                        "Standard deviation: 2.0\n"
                    ]
                }
            ],
            "source": [
                "def standard_deviation(data: list) -> float:\n",
                "    '''Calculate the standard deviation of a list of numbers.'''\n",
                "\n",
                "    return np.array(data).std()\n",
                "\n",
                "data=[4,2,5,8,6]\n",
                "print(f'Standard deviation: {standard_deviation(data)}')"
            ]
        },
        {
            "cell_type": "markdown",
            "id": "e009162a",
            "metadata": {},
            "source": [
                "#### DIY standard library only solution"
            ]
        },
        {
            "cell_type": "code",
            "execution_count": 32,
            "id": "b1729aea",
            "metadata": {},
            "outputs": [],
            "source": [
                "def get_sum(data: list) -> float:\n",
                "    '''Calculates and returns sum of list.'''\n",
                "\n",
                "    total=0\n",
                "\n",
                "    for x in data:\n",
                "        total+=x\n",
                "\n",
                "    return total\n",
                "\n",
                "\n",
                "def get_length(data: list) -> int:\n",
                "    '''Finds and returns the length of a list.'''\n",
                "\n",
                "    list_length=0\n",
                "\n",
                "    for i in data:\n",
                "        list_length+=1\n",
                "\n",
                "    return list_length\n",
                "\n",
                "\n",
                "def get_mean(data: list) -> float:\n",
                "    '''Calculates and returns the arithmetic mean of a list.'''\n",
                "\n",
                "    list_sum=get_sum(data)\n",
                "    list_length=get_length(data)\n",
                "\n",
                "    return list_sum/list_length\n",
                "\n",
                "\n",
                "def sum_squared_differences(data: list) -> float:\n",
                "    '''Calculates and returns the sum of sqared differences from the mean for the\n",
                "    numbers in a list.'''\n",
                "\n",
                "    list_mean=get_mean(data)\n",
                "\n",
                "    squared_differences_sum=0\n",
                "\n",
                "    for x in data:\n",
                "        squared_differences_sum+=(x - list_mean)**2\n",
                "\n",
                "    return squared_differences_sum\n",
                "\n",
                "\n",
                "def get_standard_deviation(data: list) -> float:\n",
                "    '''Calculates and returns the standard deviation of numbers in a list.'''\n",
                "\n",
                "    list_length=get_length(data)\n",
                "    squared_differences_sum=sum_squared_differences(data)\n",
                "    mean_squared_difference_sum=squared_differences_sum / list_length\n",
                "\n",
                "    return mean_squared_difference_sum**0.5\n"
            ]
        },
        {
            "cell_type": "code",
            "execution_count": 33,
            "id": "9d0fdd8c",
            "metadata": {},
            "outputs": [
                {
                    "name": "stdout",
                    "output_type": "stream",
                    "text": [
                        "Standard deviation: 2.0\n"
                    ]
                }
            ],
            "source": [
                "print(f'Standard deviation: {get_standard_deviation(data)}')"
            ]
        }
    ],
    "metadata": {
        "kernelspec": {
            "display_name": "Python 3",
            "language": "python",
            "name": "python3"
        },
        "language_info": {
            "codemirror_mode": {
                "name": "ipython",
                "version": 3
            },
            "file_extension": ".py",
            "mimetype": "text/x-python",
            "name": "python",
            "nbconvert_exporter": "python",
            "pygments_lexer": "ipython3",
            "version": "3.11.4"
        }
    },
    "nbformat": 4,
    "nbformat_minor": 5
}
