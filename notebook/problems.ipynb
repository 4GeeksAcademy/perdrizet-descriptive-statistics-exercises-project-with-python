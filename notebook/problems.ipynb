{
 "cells": [
  {
   "cell_type": "markdown",
   "id": "6805e3f1",
   "metadata": {},
   "source": [
    "# Descriptive Statistics Problems\n",
    "\n",
    "## Notebook set-up\n"
   ]
  },
  {
   "cell_type": "code",
   "execution_count": 1,
   "id": "61ddee05",
   "metadata": {},
   "outputs": [],
   "source": [
    "# Import libraries\n",
    "import math\n",
    "import pandas as pd\n",
    "import numpy as np\n",
    "import matplotlib.pyplot as plt\n",
    "from scipy.stats import skew, kurtosis, mode"
   ]
  },
  {
   "cell_type": "markdown",
   "id": "3b6e083e",
   "metadata": {},
   "source": [
    "## Data loading"
   ]
  },
  {
   "cell_type": "code",
   "execution_count": 2,
   "id": "ca3d2c0a",
   "metadata": {},
   "outputs": [
    {
     "data": {
      "text/html": [
       "<div>\n",
       "<style scoped>\n",
       "    .dataframe tbody tr th:only-of-type {\n",
       "        vertical-align: middle;\n",
       "    }\n",
       "\n",
       "    .dataframe tbody tr th {\n",
       "        vertical-align: top;\n",
       "    }\n",
       "\n",
       "    .dataframe thead th {\n",
       "        text-align: right;\n",
       "    }\n",
       "</style>\n",
       "<table border=\"1\" class=\"dataframe\">\n",
       "  <thead>\n",
       "    <tr style=\"text-align: right;\">\n",
       "      <th></th>\n",
       "      <th>star_rating</th>\n",
       "      <th>title</th>\n",
       "      <th>content_rating</th>\n",
       "      <th>genre</th>\n",
       "      <th>duration</th>\n",
       "      <th>actors_list</th>\n",
       "    </tr>\n",
       "  </thead>\n",
       "  <tbody>\n",
       "    <tr>\n",
       "      <th>0</th>\n",
       "      <td>9.3</td>\n",
       "      <td>The Shawshank Redemption</td>\n",
       "      <td>R</td>\n",
       "      <td>Crime</td>\n",
       "      <td>142</td>\n",
       "      <td>[u'Tim Robbins', u'Morgan Freeman', u'Bob Gunt...</td>\n",
       "    </tr>\n",
       "    <tr>\n",
       "      <th>1</th>\n",
       "      <td>9.2</td>\n",
       "      <td>The Godfather</td>\n",
       "      <td>R</td>\n",
       "      <td>Crime</td>\n",
       "      <td>175</td>\n",
       "      <td>[u'Marlon Brando', u'Al Pacino', u'James Caan']</td>\n",
       "    </tr>\n",
       "    <tr>\n",
       "      <th>2</th>\n",
       "      <td>9.1</td>\n",
       "      <td>The Godfather: Part II</td>\n",
       "      <td>R</td>\n",
       "      <td>Crime</td>\n",
       "      <td>200</td>\n",
       "      <td>[u'Al Pacino', u'Robert De Niro', u'Robert Duv...</td>\n",
       "    </tr>\n",
       "    <tr>\n",
       "      <th>3</th>\n",
       "      <td>9.0</td>\n",
       "      <td>The Dark Knight</td>\n",
       "      <td>PG-13</td>\n",
       "      <td>Action</td>\n",
       "      <td>152</td>\n",
       "      <td>[u'Christian Bale', u'Heath Ledger', u'Aaron E...</td>\n",
       "    </tr>\n",
       "    <tr>\n",
       "      <th>4</th>\n",
       "      <td>8.9</td>\n",
       "      <td>Pulp Fiction</td>\n",
       "      <td>R</td>\n",
       "      <td>Crime</td>\n",
       "      <td>154</td>\n",
       "      <td>[u'John Travolta', u'Uma Thurman', u'Samuel L....</td>\n",
       "    </tr>\n",
       "  </tbody>\n",
       "</table>\n",
       "</div>"
      ],
      "text/plain": [
       "   star_rating                     title content_rating   genre  duration  \\\n",
       "0          9.3  The Shawshank Redemption              R   Crime       142   \n",
       "1          9.2             The Godfather              R   Crime       175   \n",
       "2          9.1    The Godfather: Part II              R   Crime       200   \n",
       "3          9.0           The Dark Knight          PG-13  Action       152   \n",
       "4          8.9              Pulp Fiction              R   Crime       154   \n",
       "\n",
       "                                         actors_list  \n",
       "0  [u'Tim Robbins', u'Morgan Freeman', u'Bob Gunt...  \n",
       "1    [u'Marlon Brando', u'Al Pacino', u'James Caan']  \n",
       "2  [u'Al Pacino', u'Robert De Niro', u'Robert Duv...  \n",
       "3  [u'Christian Bale', u'Heath Ledger', u'Aaron E...  \n",
       "4  [u'John Travolta', u'Uma Thurman', u'Samuel L....  "
      ]
     },
     "execution_count": 2,
     "metadata": {},
     "output_type": "execute_result"
    }
   ],
   "source": [
    "# Load IMDb dataset\n",
    "url = \"../assets/imdb_1000.csv\"\n",
    "df = pd.read_csv(url)\n",
    "df.head()"
   ]
  },
  {
   "cell_type": "markdown",
   "id": "19b92e73",
   "metadata": {},
   "source": [
    "## Exercise 1 – How long are movie titles?\n",
    "\n",
    "In this exercise, you will apply descriptive statistics techniques to a real dataset: a database of 1000 popular movies from the IMDb website.\n",
    "\n",
    "From the title of each movie, you will:\n",
    "- Calculate the title length (in characters).\n",
    "- Obtain key statistical metrics: mean, median, mode, range, variance, standard deviation, skewness, and kurtosis.\n",
    "- Identify the longest and shortest titles.\n",
    "- Visualize the distribution of these lengths with a histogram and a density curve."
   ]
  },
  {
   "cell_type": "code",
   "execution_count": 3,
   "id": "61d39304",
   "metadata": {},
   "outputs": [
    {
     "name": "stdout",
     "output_type": "stream",
     "text": [
      "First 10 movies with their title lengths:\n",
      "                                           title  title_length\n",
      "0                       The Shawshank Redemption            24\n",
      "1                                  The Godfather            13\n",
      "2                         The Godfather: Part II            22\n",
      "3                                The Dark Knight            15\n",
      "4                                   Pulp Fiction            12\n",
      "5                                   12 Angry Men            12\n",
      "6                 The Good, the Bad and the Ugly            30\n",
      "7  The Lord of the Rings: The Return of the King            45\n",
      "8                               Schindler's List            16\n",
      "9                                     Fight Club            10\n"
     ]
    }
   ],
   "source": [
    "# Create a new column called 'title_length' with the length (number of characters) of each title\n",
    "# Using the str.len() method to count characters in each movie title\n",
    "df['title_length'] = df['title'].str.len()\n",
    "\n",
    "# Display the first few rows to verify the new column was created correctly\n",
    "print(\"First 10 movies with their title lengths:\")\n",
    "print(df[['title', 'title_length']].head(10))"
   ]
  },
  {
   "cell_type": "markdown",
   "id": "58c89bf9",
   "metadata": {},
   "source": [
    "### 1.1 Create Title Length Column"
   ]
  },
  {
   "cell_type": "code",
   "execution_count": 4,
   "id": "cae9c2e7",
   "metadata": {},
   "outputs": [
    {
     "name": "stdout",
     "output_type": "stream",
     "text": [
      "Mean title length: 15.48 characters\n",
      "Median title length: 14.00 characters\n",
      "Mode title length: 12 characters (appears 64 times)\n"
     ]
    }
   ],
   "source": [
    "# Calculate mean, median, and mode of the 'title_length' column\n",
    "# Mean: average title length\n",
    "title_mean = df['title_length'].mean()\n",
    "\n",
    "# Median: middle value when title lengths are sorted\n",
    "title_median = df['title_length'].median()\n",
    "\n",
    "# Mode: most frequently occurring title length\n",
    "title_mode = mode(df['title_length'], keepdims=True)\n",
    "\n",
    "print(f\"Mean title length: {title_mean:.2f} characters\")\n",
    "print(f\"Median title length: {title_median:.2f} characters\")\n",
    "print(f\"Mode title length: {title_mode.mode[0]} characters (appears {title_mode.count[0]} times)\")"
   ]
  },
  {
   "cell_type": "markdown",
   "id": "f0989c38",
   "metadata": {},
   "source": [
    "### 1.2 Central Tendency Measures"
   ]
  },
  {
   "cell_type": "code",
   "execution_count": 5,
   "id": "69664a9b",
   "metadata": {},
   "outputs": [
    {
     "name": "stdout",
     "output_type": "stream",
     "text": [
      "Range of title lengths: 67 characters\n",
      "Variance of title lengths: 72.11\n",
      "Standard deviation of title lengths: 8.49 characters\n"
     ]
    }
   ],
   "source": [
    "# Calculate the range, variance, and standard deviation of 'title_length'\n",
    "# Range: difference between maximum and minimum values\n",
    "title_range = df['title_length'].max() - df['title_length'].min()\n",
    "\n",
    "# Variance: average of squared differences from the mean\n",
    "title_variance = df['title_length'].var()\n",
    "\n",
    "# Standard deviation: square root of variance (measures spread of data)\n",
    "title_std = df['title_length'].std()\n",
    "\n",
    "print(f\"Range of title lengths: {title_range} characters\")\n",
    "print(f\"Variance of title lengths: {title_variance:.2f}\")\n",
    "print(f\"Standard deviation of title lengths: {title_std:.2f} characters\")"
   ]
  },
  {
   "cell_type": "markdown",
   "id": "61d5b953",
   "metadata": {},
   "source": [
    "### 1.3 Measures of Spread"
   ]
  },
  {
   "cell_type": "code",
   "execution_count": 6,
   "id": "6b9a931c",
   "metadata": {},
   "outputs": [
    {
     "name": "stdout",
     "output_type": "stream",
     "text": [
      "Skewness of title lengths: 1.523\n",
      "Interpretation: Positive skew (right tail is longer)\n",
      "Kurtosis of title lengths: 3.787\n",
      "Interpretation: Heavy tails (more extreme values than normal distribution)\n"
     ]
    }
   ],
   "source": [
    "# Calculate skewness and kurtosis of the 'title_length' column\n",
    "# Skewness: measures asymmetry of the distribution\n",
    "title_skewness = skew(df['title_length'])\n",
    "\n",
    "# Kurtosis: measures the \"tailedness\" of the distribution\n",
    "title_kurtosis = kurtosis(df['title_length'])\n",
    "\n",
    "print(f\"Skewness of title lengths: {title_skewness:.3f}\")\n",
    "print(\"Interpretation:\", end=\" \")\n",
    "if title_skewness > 0:\n",
    "    print(\"Positive skew (right tail is longer)\")\n",
    "elif title_skewness < 0:\n",
    "    print(\"Negative skew (left tail is longer)\")\n",
    "else:\n",
    "    print(\"Symmetric distribution\")\n",
    "\n",
    "print(f\"Kurtosis of title lengths: {title_kurtosis:.3f}\")\n",
    "print(\"Interpretation:\", end=\" \")\n",
    "if title_kurtosis > 0:\n",
    "    print(\"Heavy tails (more extreme values than normal distribution)\")\n",
    "elif title_kurtosis < 0:\n",
    "    print(\"Light tails (fewer extreme values than normal distribution)\")\n",
    "else:\n",
    "    print(\"Similar to normal distribution\")"
   ]
  },
  {
   "cell_type": "markdown",
   "id": "3487fc67",
   "metadata": {},
   "source": [
    "### 1.4 Extreme Values"
   ]
  },
  {
   "cell_type": "code",
   "execution_count": 7,
   "id": "c0d09e68",
   "metadata": {},
   "outputs": [
    {
     "name": "stdout",
     "output_type": "stream",
     "text": [
      "SHORTEST TITLE(S):\n",
      "Length: 1 characters\n",
      "- 'M'\n",
      "\n",
      "LONGEST TITLE(S):\n",
      "Length: 68 characters\n",
      "- 'Dr. Strangelove or: How I Learned to Stop Worrying and Love the Bomb'\n"
     ]
    }
   ],
   "source": [
    "# Print the shortest and longest title based on their length\n",
    "# Find the shortest title(s)\n",
    "min_length = df['title_length'].min()\n",
    "shortest_titles = df[df['title_length'] == min_length]\n",
    "\n",
    "# Find the longest title(s)\n",
    "max_length = df['title_length'].max()\n",
    "longest_titles = df[df['title_length'] == max_length]\n",
    "\n",
    "print(\"SHORTEST TITLE(S):\")\n",
    "print(f\"Length: {min_length} characters\")\n",
    "for idx, row in shortest_titles.iterrows():\n",
    "    print(f\"- '{row['title']}'\")\n",
    "\n",
    "print(\"\\nLONGEST TITLE(S):\")\n",
    "print(f\"Length: {max_length} characters\")\n",
    "for idx, row in longest_titles.iterrows():\n",
    "    print(f\"- '{row['title']}'\")"
   ]
  },
  {
   "cell_type": "markdown",
   "id": "58ad294a",
   "metadata": {},
   "source": [
    "### 1.5 Visualization and Summary"
   ]
  },
  {
   "cell_type": "code",
   "execution_count": 8,
   "id": "e86a1ced",
   "metadata": {},
   "outputs": [
    {
     "data": {
      "image/png": "[encoded data removed]",
      "text/plain": [
       "<Figure size 900x506 with 1 Axes>"
      ]
     },
     "metadata": {},
     "output_type": "display_data"
    },
    {
     "name": "stdout",
     "output_type": "stream",
     "text": [
      "\n",
      "SUMMARY STATISTICS FOR TITLE LENGTHS:\n",
      "count    979.000000\n",
      "mean      15.481103\n",
      "std        8.491569\n",
      "min        1.000000\n",
      "25%       10.000000\n",
      "50%       14.000000\n",
      "75%       19.000000\n",
      "max       68.000000\n",
      "Name: title_length, dtype: float64\n"
     ]
    }
   ],
   "source": [
    "# Plot your results\n",
    "# Create a single histogram showing the distribution of title lengths\n",
    "# Setting width to match the preview image (900px ≈ 9 inches at 100 DPI)\n",
    "plt.figure(figsize=(9, 5.06))\n",
    "\n",
    "# Histogram showing the distribution of title lengths\n",
    "plt.hist(df['title_length'], bins=20, color='skyblue', alpha=0.7, edgecolor='black')\n",
    "plt.xlabel('Title Length (characters)', fontsize=13)\n",
    "plt.ylabel('Frequency', fontsize=13)\n",
    "plt.title('Distribution of Movie Title Lengths', fontsize=15)\n",
    "plt.grid(True, alpha=0.3)\n",
    "plt.tick_params(axis='both', which='major', labelsize=11)\n",
    "\n",
    "# Add vertical lines for mean, median, and +/- 1 standard deviation\n",
    "plt.axvline(title_mean, color='red', linestyle='--', linewidth=2, label=f'Mean: {title_mean:.1f}')\n",
    "plt.axvline(title_median, color='green', linestyle='--', linewidth=2, label=f'Median: {title_median:.1f}')\n",
    "plt.axvline(title_mean + title_std, color='orange', linestyle=':', linewidth=2, label=f'+1 SD: {title_mean + title_std:.1f}')\n",
    "plt.axvline(title_mean - title_std, color='orange', linestyle=':', linewidth=2, label=f'-1 SD: {title_mean - title_std:.1f}')\n",
    "plt.legend(fontsize=11)\n",
    "\n",
    "plt.tight_layout()\n",
    "\n",
    "# Save the plot to the assets directory\n",
    "plt.savefig('../assets/distribution.png', bbox_inches='tight')\n",
    "plt.show()\n",
    "\n",
    "# Summary statistics\n",
    "print(\"\\nSUMMARY STATISTICS FOR TITLE LENGTHS:\")\n",
    "print(df['title_length'].describe())"
   ]
  },
  {
   "cell_type": "markdown",
   "id": "eaf3ceb7",
   "metadata": {},
   "source": [
    "---\n",
    "\n",
    "## Exercise 2 – Manual Calculation of Standard Deviation\n",
    "\n",
    "In this exercise, you will manually calculate the standard deviation by selecting five actual titles from the movie dataset you loaded earlier.\n"
   ]
  },
  {
   "cell_type": "code",
   "execution_count": 9,
   "id": "3005c0f9",
   "metadata": {},
   "outputs": [
    {
     "name": "stdout",
     "output_type": "stream",
     "text": [
      "Sample of title lengths from the dataset:\n",
      "                                           title  title_length\n",
      "0                       The Shawshank Redemption            24\n",
      "1                                  The Godfather            13\n",
      "2                         The Godfather: Part II            22\n",
      "3                                The Dark Knight            15\n",
      "4                                   Pulp Fiction            12\n",
      "5                                   12 Angry Men            12\n",
      "6                 The Good, the Bad and the Ugly            30\n",
      "7  The Lord of the Rings: The Return of the King            45\n",
      "8                               Schindler's List            16\n",
      "9                                     Fight Club            10\n",
      "\n",
      "Selected 5 title lengths for manual calculation: [np.int64(24), np.int64(13), np.int64(22), np.int64(15), np.int64(12)]\n"
     ]
    }
   ],
   "source": [
    "# Create a list with 5 actual values from df['title_length'], for example: [10, 13, 14, 18, 22]\n",
    "# First, let's look at some sample title lengths from our dataset\n",
    "print(\"Sample of title lengths from the dataset:\")\n",
    "sample_titles = df[['title', 'title_length']].head(10)\n",
    "print(sample_titles)\n",
    "\n",
    "# Select 5 specific title length values from our dataset\n",
    "sample_lengths = [df['title_length'].iloc[0], df['title_length'].iloc[1], \n",
    "                 df['title_length'].iloc[2], df['title_length'].iloc[3], \n",
    "                 df['title_length'].iloc[4]]\n",
    "\n",
    "print(f\"\\nSelected 5 title lengths for manual calculation: {sample_lengths}\")"
   ]
  },
  {
   "cell_type": "markdown",
   "id": "f5096fbb",
   "metadata": {},
   "source": [
    "### 2.1 Sample mean"
   ]
  },
  {
   "cell_type": "code",
   "execution_count": 10,
   "id": "d96b771f",
   "metadata": {},
   "outputs": [
    {
     "name": "stdout",
     "output_type": "stream",
     "text": [
      "Values: [np.int64(24), np.int64(13), np.int64(22), np.int64(15), np.int64(12)]\n",
      "Sum of values: 86\n",
      "Number of values: 5\n",
      "Mean = 86 / 5 = 17.20\n"
     ]
    }
   ],
   "source": [
    "# Calculate the mean of the 5 values\n",
    "# Mean = sum of all values divided by the number of values\n",
    "sample_mean = sum(sample_lengths) / len(sample_lengths)\n",
    "\n",
    "print(f\"Values: {sample_lengths}\")\n",
    "print(f\"Sum of values: {sum(sample_lengths)}\")\n",
    "print(f\"Number of values: {len(sample_lengths)}\")\n",
    "print(f\"Mean = {sum(sample_lengths)} / {len(sample_lengths)} = {sample_mean:.2f}\")"
   ]
  },
  {
   "cell_type": "markdown",
   "id": "c69db5ec",
   "metadata": {},
   "source": [
    "### 2.2 Calculate Squared Differences"
   ]
  },
  {
   "cell_type": "code",
   "execution_count": 11,
   "id": "346d0dc5",
   "metadata": {},
   "outputs": [
    {
     "name": "stdout",
     "output_type": "stream",
     "text": [
      "Calculating squared differences:\n",
      "Mean = 17.20\n",
      "\n",
      "Value 1: 24\n",
      "  Difference from mean: 24 - 17.20 = 6.80\n",
      "  Squared difference: (6.80)² = 46.24\n",
      "\n",
      "Value 2: 13\n",
      "  Difference from mean: 13 - 17.20 = -4.20\n",
      "  Squared difference: (-4.20)² = 17.64\n",
      "\n",
      "Value 3: 22\n",
      "  Difference from mean: 22 - 17.20 = 4.80\n",
      "  Squared difference: (4.80)² = 23.04\n",
      "\n",
      "Value 4: 15\n",
      "  Difference from mean: 15 - 17.20 = -2.20\n",
      "  Squared difference: (-2.20)² = 4.84\n",
      "\n",
      "Value 5: 12\n",
      "  Difference from mean: 12 - 17.20 = -5.20\n",
      "  Squared difference: (-5.20)² = 27.04\n",
      "\n",
      "Squared differences: [46.24, 17.64, 23.04, 4.84, 27.04]\n",
      "Sum of squared differences: 118.80\n"
     ]
    }
   ],
   "source": [
    "# Calculate the squared differences with respect to the mean\n",
    "# For each value, calculate: (value - mean)²\n",
    "squared_differences = []\n",
    "\n",
    "print(\"Calculating squared differences:\")\n",
    "print(f\"Mean = {sample_mean:.2f}\")\n",
    "print()\n",
    "\n",
    "for i, value in enumerate(sample_lengths):\n",
    "    difference = value - sample_mean\n",
    "    squared_diff = difference ** 2\n",
    "    squared_differences.append(squared_diff)\n",
    "    print(f\"Value {i+1}: {value}\")\n",
    "    print(f\"  Difference from mean: {value} - {sample_mean:.2f} = {difference:.2f}\")\n",
    "    print(f\"  Squared difference: ({difference:.2f})² = {squared_diff:.2f}\")\n",
    "    print()\n",
    "\n",
    "print(f\"Squared differences: {[round(float(x), 2) for x in squared_differences]}\")\n",
    "print(f\"Sum of squared differences: {sum(squared_differences):.2f}\")"
   ]
  },
  {
   "cell_type": "markdown",
   "id": "02f59018",
   "metadata": {},
   "source": [
    "### 2.3 Variance and Standard Deviation"
   ]
  },
  {
   "cell_type": "code",
   "execution_count": 12,
   "id": "f56517ff",
   "metadata": {},
   "outputs": [
    {
     "name": "stdout",
     "output_type": "stream",
     "text": [
      "MANUAL STANDARD DEVIATION CALCULATION:\n",
      "Sum of squared differences: 118.80\n",
      "Number of values: 5\n",
      "Variance = 118.80 / 5 = 23.76\n",
      "Standard deviation = √23.76 = 4.87\n",
      "\n",
      "VERIFICATION:\n",
      "Manual calculation: 4.87\n",
      "NumPy calculation: 4.87\n",
      "Pandas calculation: 5.45\n",
      "\n",
      "Note: Small differences may occur due to sample vs population standard deviation formulas\n"
     ]
    }
   ],
   "source": [
    "# Calculate the variance (average of the squared differences) and its square root to obtain the standard deviation\n",
    "# Variance = sum of squared differences / number of values\n",
    "# Standard deviation = square root of variance\n",
    "\n",
    "# Calculate variance\n",
    "variance = sum(squared_differences) / len(squared_differences)\n",
    "\n",
    "# Calculate standard deviation\n",
    "std_deviation = math.sqrt(variance)\n",
    "\n",
    "print(\"MANUAL STANDARD DEVIATION CALCULATION:\")\n",
    "print(f\"Sum of squared differences: {sum(squared_differences):.2f}\")\n",
    "print(f\"Number of values: {len(squared_differences)}\")\n",
    "print(f\"Variance = {sum(squared_differences):.2f} / {len(squared_differences)} = {variance:.2f}\")\n",
    "print(f\"Standard deviation = √{variance:.2f} = {std_deviation:.2f}\")\n",
    "\n",
    "print(\"\\nVERIFICATION:\")\n",
    "print(f\"Manual calculation: {std_deviation:.2f}\")\n",
    "print(f\"NumPy calculation: {np.std(sample_lengths):.2f}\")\n",
    "print(f\"Pandas calculation: {pd.Series(sample_lengths).std():.2f}\")\n",
    "\n",
    "# Note: Pandas uses sample standard deviation (n-1) by default, NumPy uses population std (n)\n",
    "print(f\"\\nNote: Small differences may occur due to sample vs population standard deviation formulas\")"
   ]
  }
 ],
 "metadata": {
  "kernelspec": {
   "display_name": "Python 3",
   "language": "python",
   "name": "python3"
  },
  "language_info": {
   "codemirror_mode": {
    "name": "ipython",
    "version": 3
   },
   "file_extension": ".py",
   "mimetype": "text/x-python",
   "name": "python",
   "nbconvert_exporter": "python",
   "pygments_lexer": "ipython3",
   "version": "3.11.4"
  }
 },
 "nbformat": 4,
 "nbformat_minor": 5
}
