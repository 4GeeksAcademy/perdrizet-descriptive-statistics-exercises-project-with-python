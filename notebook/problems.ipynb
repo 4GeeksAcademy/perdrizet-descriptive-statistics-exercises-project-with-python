{
    "cells": [
        {
            "cell_type": "markdown",
            "id": "ac622319",
            "metadata": {},
            "source": [
                "# Descriptive statistics problems"
            ]
        },
        {
            "cell_type": "markdown",
            "id": "5e0ab0d5",
            "metadata": {},
            "source": [
                "## 1. Exercise 1\n",
                "\n",
                "We will use NumPy to obtain information to describe statistically.\n",
                "\n",
                "- Generate an array of 100 elements following a normal distribution.\n",
                "- Generate an array of 100 elements following a chi-square distribution with 3 degrees of freedom.\n",
                "- Calculate the main metrics and statistical measures that best describe the two vectors."
            ]
        },
        {
            "cell_type": "code",
            "execution_count": 1,
            "id": "34720ab6",
            "metadata": {},
            "outputs": [
                {
                    "data": {
                        "image/png": "[encoded data removed]",
                        "text/plain": [
                            "<Figure size 640x480 with 1 Axes>"
                        ]
                    },
                    "metadata": {},
                    "output_type": "display_data"
                }
            ],
            "source": [
                "import statistics\n",
                "import numpy as np\n",
                "import matplotlib.pyplot as plt\n",
                "\n",
                "random_normal=np.random.normal(size=100)\n",
                "random_chi=np.random.chisquare(1, size=100)\n",
                "\n",
                "plt.hist(random_normal, bins=30, alpha=0.5, density=True, label='Normal distribution')\n",
                "plt.hist(random_chi, bins=60, alpha=0.5, density=True, label='Chi-squared distribution')\n",
                "plt.legend(loc='best')\n",
                "plt.show()"
            ]
        },
        {
            "cell_type": "markdown",
            "id": "23337d89",
            "metadata": {},
            "source": [
                "### 1.2. Central tendency\n",
                "\n",
                "#### 1.2.1 Mean"
            ]
        },
        {
            "cell_type": "code",
            "execution_count": 2,
            "id": "dd5b1cfb",
            "metadata": {},
            "outputs": [
                {
                    "name": "stdout",
                    "output_type": "stream",
                    "text": [
                        "Normal distribution mean: 0.016551736228608727\n",
                        "Chi-squared distribution mean: 1.031095399590453\n"
                    ]
                }
            ],
            "source": [
                "def get_mean(data: list) -> float:\n",
                "    '''Calculates and returns mean of list.'''\n",
                "\n",
                "    list_length=0\n",
                "    list_sum=0\n",
                "\n",
                "    for n in data:\n",
                "        list_sum+=n\n",
                "        list_length+=1\n",
                "\n",
                "    return list_sum / list_length\n",
                "\n",
                "print(f'Normal distribution mean: {get_mean(random_normal)}')\n",
                "print(f'Chi-squared distribution mean: {get_mean(random_chi)}')"
            ]
        },
        {
            "cell_type": "code",
            "execution_count": 3,
            "id": "11e05217",
            "metadata": {},
            "outputs": [
                {
                    "name": "stdout",
                    "output_type": "stream",
                    "text": [
                        "Normal distribution mean: 0.016551736228608692\n",
                        "Chi-squared distribution mean: 1.0310953995904528\n"
                    ]
                }
            ],
            "source": [
                "print(f'Normal distribution mean: {statistics.mean(random_normal)}')\n",
                "print(f'Chi-squared distribution mean: {statistics.mean(random_chi)}')"
            ]
        },
        {
            "cell_type": "markdown",
            "id": "1ed2ffbd",
            "metadata": {},
            "source": [
                "#### 1.2.2. Median"
            ]
        },
        {
            "cell_type": "code",
            "execution_count": 4,
            "id": "3c08bf32",
            "metadata": {},
            "outputs": [
                {
                    "name": "stdout",
                    "output_type": "stream",
                    "text": [
                        "Normal median: 0.11190283653244851\n",
                        "Chi-squared median: 0.6221968093411225\n"
                    ]
                }
            ],
            "source": [
                "def get_median(data: list) -> float:\n",
                "    '''Finds and return median of list'''\n",
                "\n",
                "    # Sort the list of numbers\n",
                "    for n in data:\n",
                "        for i in range(len(data) - 1):\n",
                "            if data[i] > data[i + 1]:\n",
                "                tmp=data[i]\n",
                "                data[i]=data[i+1]\n",
                "                data[i+1]=tmp\n",
                "\n",
                "    # Get middle number for odd length list\n",
                "    if len(data) % 2 == 1:\n",
                "        median_index=(len(data) + 1)/2\n",
                "        list_median=data[median_index]\n",
                "\n",
                "    # Get middle number index for even length list\n",
                "    elif len(data) % 2 == 0:\n",
                "        left_index=len(data) // 2\n",
                "        right_index=(len(data) // 2) + 1\n",
                "        list_median=(data[left_index] + data[right_index]) / 2\n",
                "\n",
                "    return list_median\n",
                "\n",
                "print(f'Normal median: {get_median(random_normal)}')\n",
                "print(f'Chi-squared median: {get_median(random_chi)}')"
            ]
        },
        {
            "cell_type": "code",
            "execution_count": 5,
            "id": "9cf4caac",
            "metadata": {},
            "outputs": [
                {
                    "name": "stdout",
                    "output_type": "stream",
                    "text": [
                        "Normal median: 0.10053910199817193\n",
                        "Chi-squared median: 0.5734410559364391\n"
                    ]
                }
            ],
            "source": [
                "print(f'Normal median: {statistics.median(random_normal)}')\n",
                "print(f'Chi-squared median: {statistics.median(random_chi)}')"
            ]
        },
        {
            "cell_type": "markdown",
            "id": "46c70c3d",
            "metadata": {},
            "source": [
                "### Exercise 2\n",
                "\n",
                "Write a Python program to calculate the standard deviation of the following data:\n",
                "\n",
                "```py\n",
                "data = [4, 2, 5, 8, 6]\n",
                "```"
            ]
        },
        {
            "cell_type": "code",
            "execution_count": 6,
            "id": "ec090570",
            "metadata": {},
            "outputs": [],
            "source": [
                "data=[4,2,5,8,6]"
            ]
        },
        {
            "cell_type": "markdown",
            "id": "f2e5c526",
            "metadata": {},
            "source": [
                "#### 2.1. Easy solution with numpy"
            ]
        },
        {
            "cell_type": "code",
            "execution_count": 7,
            "id": "d590308e",
            "metadata": {},
            "outputs": [
                {
                    "name": "stdout",
                    "output_type": "stream",
                    "text": [
                        "Standard deviation: 2.0\n"
                    ]
                }
            ],
            "source": [
                "print(f'Standard deviation: {np.array(data).std()}')"
            ]
        },
        {
            "cell_type": "markdown",
            "id": "e009162a",
            "metadata": {},
            "source": [
                "#### 2.2. DIY solution"
            ]
        },
        {
            "cell_type": "code",
            "execution_count": 8,
            "id": "b1729aea",
            "metadata": {},
            "outputs": [],
            "source": [
                "def get_sum(data: list) -> float:\n",
                "    '''Calculates and returns sum of list.'''\n",
                "\n",
                "    total=0\n",
                "\n",
                "    for x in data:\n",
                "        total+=x\n",
                "\n",
                "    return total\n",
                "\n",
                "\n",
                "def get_length(data: list) -> int:\n",
                "    '''Finds and returns the length of a list.'''\n",
                "\n",
                "    list_length=0\n",
                "\n",
                "    for i in data:\n",
                "        list_length+=1\n",
                "\n",
                "    return list_length\n",
                "\n",
                "\n",
                "def get_mean(data: list) -> float:\n",
                "    '''Calculates and returns the arithmetic mean of a list.'''\n",
                "\n",
                "    list_sum=get_sum(data)\n",
                "    list_length=get_length(data)\n",
                "\n",
                "    return list_sum/float(list_length)\n",
                "\n",
                "\n",
                "def sum_squared_differences(data: list) -> float:\n",
                "    '''Calculates and returns the sum of sqared differences from the mean for the\n",
                "    numbers in a list.'''\n",
                "\n",
                "    list_mean=get_mean(data)\n",
                "\n",
                "    squared_differences_sum=0\n",
                "\n",
                "    for x in data:\n",
                "        squared_differences_sum+=(x - list_mean)**2\n",
                "\n",
                "    return squared_differences_sum\n",
                "\n",
                "\n",
                "def get_standard_deviation(data: list) -> float:\n",
                "    '''Calculates and returns the standard deviation of numbers in a list.'''\n",
                "\n",
                "    list_length=get_length(data)\n",
                "    squared_differences_sum=sum_squared_differences(data)\n",
                "    mean_squared_difference_sum=squared_differences_sum / float(list_length)\n",
                "\n",
                "    return mean_squared_difference_sum**0.5\n"
            ]
        },
        {
            "cell_type": "code",
            "execution_count": 9,
            "id": "9d0fdd8c",
            "metadata": {},
            "outputs": [
                {
                    "name": "stdout",
                    "output_type": "stream",
                    "text": [
                        "Standard deviation: 2.0\n"
                    ]
                }
            ],
            "source": [
                "print(f'Standard deviation: {get_standard_deviation(data)}')"
            ]
        },
        {
            "cell_type": "markdown",
            "id": "206df37e",
            "metadata": {},
            "source": [
                "#### 2.3. Drag race"
            ]
        },
        {
            "cell_type": "code",
            "execution_count": 10,
            "id": "e60edaad",
            "metadata": {},
            "outputs": [],
            "source": [
                "import random\n",
                "\n",
                "list_len=10000000\n",
                "data=[random.random() for _ in range(list_len)]"
            ]
        },
        {
            "cell_type": "markdown",
            "id": "7de4e002",
            "metadata": {},
            "source": [
                "##### 2.3.1. NumPy"
            ]
        },
        {
            "cell_type": "code",
            "execution_count": 11,
            "id": "ac317992",
            "metadata": {},
            "outputs": [
                {
                    "name": "stdout",
                    "output_type": "stream",
                    "text": [
                        "Standard deviation: 0.28868270478852653\n",
                        "CPU times: user 312 ms, sys: 76.5 ms, total: 388 ms\n",
                        "Wall time: 389 ms\n"
                    ]
                }
            ],
            "source": [
                "%%time\n",
                "print(f'Standard deviation: {np.array(data).std()}')"
            ]
        },
        {
            "cell_type": "markdown",
            "id": "2e8a268e",
            "metadata": {},
            "source": [
                "##### 2.3.1. DIY"
            ]
        },
        {
            "cell_type": "code",
            "execution_count": 12,
            "id": "1abba6ce",
            "metadata": {},
            "outputs": [
                {
                    "name": "stdout",
                    "output_type": "stream",
                    "text": [
                        "Standard deviation: 0.2886827047885208\n",
                        "CPU times: user 1.45 s, sys: 6.32 ms, total: 1.46 s\n",
                        "Wall time: 1.47 s\n"
                    ]
                }
            ],
            "source": [
                "%%time\n",
                "print(f'Standard deviation: {get_standard_deviation(data)}')"
            ]
        }
    ],
    "metadata": {
        "kernelspec": {
            "display_name": "Python 3",
            "language": "python",
            "name": "python3"
        },
        "language_info": {
            "codemirror_mode": {
                "name": "ipython",
                "version": 3
            },
            "file_extension": ".py",
            "mimetype": "text/x-python",
            "name": "python",
            "nbconvert_exporter": "python",
            "pygments_lexer": "ipython3",
            "version": "3.11.4"
        }
    },
    "nbformat": 4,
    "nbformat_minor": 5
}
