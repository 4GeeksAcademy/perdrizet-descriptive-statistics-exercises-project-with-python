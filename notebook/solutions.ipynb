{
 "cells": [
  {
   "cell_type": "markdown",
   "id": "3b887648",
   "metadata": {},
   "source": [
    "# Descriptive Statistics Problems\n",
    "\n",
    "## Exercise 1 – How long are the movie titles?\n",
    "\n",
    "We apply descriptive statistics techniques to a real dataset: 1000 popular movies from the IMDb site.\n"
   ]
  },
  {
   "cell_type": "code",
   "execution_count": 2,
   "id": "775819a7",
   "metadata": {},
   "outputs": [],
   "source": [
    "# Import libraries\n",
    "import pandas as pd\n",
    "import numpy as np\n",
    "import matplotlib.pyplot as plt\n",
    "from scipy.stats import skew, kurtosis, mode\n",
    "\n",
    "# Load dataset\n",
    "url = \"../assets/imdb_1000.csv\"\n",
    "df = pd.read_csv(url)"
   ]
  },
  {
   "cell_type": "code",
   "execution_count": 3,
   "id": "865a103b",
   "metadata": {},
   "outputs": [
    {
     "data": {
      "text/plain": [
       "0    24\n",
       "1    13\n",
       "2    22\n",
       "3    15\n",
       "4    12\n",
       "Name: title_length, dtype: int64"
      ]
     },
     "execution_count": 3,
     "metadata": {},
     "output_type": "execute_result"
    }
   ],
   "source": [
    "# Create a new column called 'title_length' with the length (number of characters) of each title\n",
    "df[\"title_length\"] = df[\"title\"].apply(len)\n",
    "df[\"title_length\"].head()"
   ]
  },
  {
   "cell_type": "code",
   "execution_count": 4,
   "id": "5bb0a0c3",
   "metadata": {},
   "outputs": [
    {
     "name": "stdout",
     "output_type": "stream",
     "text": [
      "Mean: 15.481103166496425\n",
      "Median: 14.0\n",
      "Mode: 12\n"
     ]
    }
   ],
   "source": [
    "# Calculate mean, median, and mode of the 'title_length' column\n",
    "mean = np.mean(df[\"title_length\"])\n",
    "median = np.median(df[\"title_length\"])\n",
    "mode_value = mode(df[\"title_length\"], keepdims=True).mode[0]\n",
    "\n",
    "print(f\"Mean: {mean}\")\n",
    "print(f\"Median: {median}\")\n",
    "print(f\"Mode: {mode_value}\")\n"
   ]
  },
  {
   "cell_type": "code",
   "execution_count": 5,
   "id": "82777eb6",
   "metadata": {},
   "outputs": [
    {
     "name": "stdout",
     "output_type": "stream",
     "text": [
      "Range: 67\n",
      "Variance: 72.1067488840288\n",
      "Standard Deviation: 8.491569282766807\n"
     ]
    }
   ],
   "source": [
    "# Calculate the range, variance, and standard deviation of 'title_length'\n",
    "range_value = np.max(df[\"title_length\"]) - np.min(df[\"title_length\"])\n",
    "variance = np.var(df[\"title_length\"], ddof=1)\n",
    "std_deviation = np.std(df[\"title_length\"], ddof=1)\n",
    "\n",
    "print(f\"Range: {range_value}\")\n",
    "print(f\"Variance: {variance}\")\n",
    "print(f\"Standard Deviation: {std_deviation}\")"
   ]
  },
  {
   "cell_type": "code",
   "execution_count": 6,
   "id": "1bdf877c",
   "metadata": {},
   "outputs": [
    {
     "name": "stdout",
     "output_type": "stream",
     "text": [
      "Skewness: 1.5229143965677572\n",
      "Kurtosis: 3.7867237597626007\n"
     ]
    }
   ],
   "source": [
    "# Calculate skewness and kurtosis of the 'title_length' column\n",
    "skewness = skew(df[\"title_length\"])\n",
    "kurtosis_value = kurtosis(df[\"title_length\"])\n",
    "\n",
    "print(f\"Skewness: {skewness}\")\n",
    "print(f\"Kurtosis: {kurtosis_value}\")"
   ]
  },
  {
   "cell_type": "code",
   "execution_count": 8,
   "id": "986a9392",
   "metadata": {},
   "outputs": [
    {
     "name": "stdout",
     "output_type": "stream",
     "text": [
      "Shortest title: M\n",
      "Longest title: Dr. Strangelove or: How I Learned to Stop Worrying and Love the Bomb\n"
     ]
    }
   ],
   "source": [
    "# Print the shortest and longest title based on their length\n",
    "shortest_title = df.loc[df[\"title_length\"].idxmin(), \"title\"]\n",
    "longest_title = df.loc[df[\"title_length\"].idxmax(), \"title\"]\n",
    "\n",
    "print(f\"Shortest title: {shortest_title}\")\n",
    "print(f\"Longest title: {longest_title}\")"
   ]
  },
  {
   "cell_type": "code",
   "execution_count": 9,
   "id": "01a66256",
   "metadata": {},
   "outputs": [
    {
     "data": {
      "image/png": "[encoded data removed]",
      "text/plain": [
       "<Figure size 1000x600 with 1 Axes>"
      ]
     },
     "metadata": {},
     "output_type": "display_data"
    }
   ],
   "source": [
    "# Plot your results\n",
    "plt.figure(figsize=(10, 6))\n",
    "plt.hist(df[\"title_length\"], bins=20, edgecolor='black', alpha=0.7)\n",
    "plt.title(\"Distribution of Title Lengths\")\n",
    "plt.xlabel(\"Number of Characters\")\n",
    "plt.ylabel(\"Frequency\")\n",
    "plt.grid(True)\n",
    "plt.show()"
   ]
  },
  {
   "cell_type": "markdown",
   "id": "7db226ec",
   "metadata": {},
   "source": [
    "---\n",
    "\n",
    "## Exercise 2 – Manual Calculation of Standard Deviation\n",
    "\n",
    "We use 5 real values from the previous dataset to apply the step-by-step calculation.\n"
   ]
  },
  {
   "cell_type": "code",
   "execution_count": 10,
   "id": "d961d14a",
   "metadata": {},
   "outputs": [],
   "source": [
    "# Create a list with 5 real values from df['title_length'], for example: [10, 13, 14, 18, 22]\n",
    "data = [10, 13, 14, 18, 22]"
   ]
  },
  {
   "cell_type": "code",
   "execution_count": 11,
   "id": "031b8573",
   "metadata": {},
   "outputs": [
    {
     "name": "stdout",
     "output_type": "stream",
     "text": [
      "Mean: 15.4\n"
     ]
    }
   ],
   "source": [
    "# Calculate the mean of the 5 values\n",
    "mean_data = sum(data) / len(data)\n",
    "print(f\"Mean: {mean_data}\")"
   ]
  },
  {
   "cell_type": "code",
   "execution_count": 12,
   "id": "a2a2ed78",
   "metadata": {},
   "outputs": [
    {
     "name": "stdout",
     "output_type": "stream",
     "text": [
      "Sum of squared differences: 87.19999999999999\n"
     ]
    }
   ],
   "source": [
    "# Calculate the squared differences with respect to the mean\n",
    "sum_of_squared_differences = sum((x - mean_data)**2 for x in data)\n",
    "print(f\"Sum of squared differences: {sum_of_squared_differences}\")"
   ]
  },
  {
   "cell_type": "code",
   "execution_count": 13,
   "id": "41c6c247",
   "metadata": {},
   "outputs": [
    {
     "name": "stdout",
     "output_type": "stream",
     "text": [
      "Variance: 17.439999999999998\n",
      "Standard Deviation: 4.176122603564219\n"
     ]
    }
   ],
   "source": [
    "# Calculate the variance (average of squared differences) and its square root to obtain the standard deviation\n",
    "manual_variance = sum_of_squared_differences / len(data)\n",
    "manual_std_deviation = manual_variance ** 0.5\n",
    "\n",
    "print(f\"Variance: {manual_variance}\")\n",
    "print(f\"Standard Deviation: {manual_std_deviation}\")"
   ]
  }
 ],
 "metadata": {
  "kernelspec": {
   "display_name": "Python 3",
   "language": "python",
   "name": "python3"
  },
  "language_info": {
   "codemirror_mode": {
    "name": "ipython",
    "version": 3
   },
   "file_extension": ".py",
   "mimetype": "text/x-python",
   "name": "python",
   "nbconvert_exporter": "python",
   "pygments_lexer": "ipython3",
   "version": "3.11.4"
  }
 },
 "nbformat": 4,
 "nbformat_minor": 5
}
