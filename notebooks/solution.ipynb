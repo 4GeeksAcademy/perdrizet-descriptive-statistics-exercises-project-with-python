{
 "cells": [
  {
   "cell_type": "markdown",
   "id": "6805e3f1",
   "metadata": {},
   "source": [
    "# Descriptive Statistics Problems\n",
    "\n",
    "## Notebook set-up\n",
    "\n",
    "Import core libraries, set up helper function, and prepare plotting."
   ]
  },
  {
   "cell_type": "code",
   "execution_count": 1,
   "id": "61ddee05",
   "metadata": {},
   "outputs": [],
   "source": [
    "# Import libraries\n",
    "import math\n",
    "import pandas as pd\n",
    "import numpy as np\n",
    "import matplotlib.pyplot as plt\n",
    "from scipy.stats import skew, kurtosis, mode\n",
    "\n",
    "# Helper to add title length features\n",
    "from functions import add_title_length_features"
   ]
  },
  {
   "cell_type": "markdown",
   "id": "3b6e083e",
   "metadata": {},
   "source": [
    "## Data loading\n",
    "\n",
    "Load the IMDb dataset and add a `title_length` column using the helper function to avoid mutating the original dataframe."
   ]
  },
  {
   "cell_type": "code",
   "execution_count": 2,
   "id": "ca3d2c0a",
   "metadata": {},
   "outputs": [],
   "source": [
    "# Load IMDb dataset and compute title length\n",
    "url = \"../data/imdb_1000.csv\"\n",
    "df_raw = pd.read_csv(url)"
   ]
  },
  {
   "cell_type": "markdown",
   "id": "19b92e73",
   "metadata": {},
   "source": [
    "## Exercise 1 – How long are movie titles?\n",
    "\n",
    "In this exercise, you will apply descriptive statistics techniques to a real dataset: a database of 1000 popular movies from the IMDb website.\n",
    "\n",
    "From the title of each movie, you will:\n",
    "- Calculate the title length (in characters).\n",
    "- Obtain key statistical metrics: mean, median, mode, range, variance, standard deviation, skewness, and kurtosis.\n",
    "- Identify the longest and shortest titles.\n",
    "- Visualize the distribution of these lengths with a histogram and a density curve."
   ]
  },
  {
   "cell_type": "markdown",
   "id": "58c89bf9",
   "metadata": {},
   "source": [
    "### 1.1. Create Title Length Column\n",
    "\n",
    "Build a focused dataframe with movie `title` and computed `title_length` for later analysis."
   ]
  },
  {
   "cell_type": "code",
   "execution_count": 3,
   "id": "cae9c2e7",
   "metadata": {},
   "outputs": [
    {
     "data": {
      "text/html": [
       "<div>\n",
       "<style scoped>\n",
       "    .dataframe tbody tr th:only-of-type {\n",
       "        vertical-align: middle;\n",
       "    }\n",
       "\n",
       "    .dataframe tbody tr th {\n",
       "        vertical-align: top;\n",
       "    }\n",
       "\n",
       "    .dataframe thead th {\n",
       "        text-align: right;\n",
       "    }\n",
       "</style>\n",
       "<table border=\"1\" class=\"dataframe\">\n",
       "  <thead>\n",
       "    <tr style=\"text-align: right;\">\n",
       "      <th></th>\n",
       "      <th>title</th>\n",
       "      <th>title_length</th>\n",
       "    </tr>\n",
       "  </thead>\n",
       "  <tbody>\n",
       "    <tr>\n",
       "      <th>0</th>\n",
       "      <td>The Shawshank Redemption</td>\n",
       "      <td>24</td>\n",
       "    </tr>\n",
       "    <tr>\n",
       "      <th>1</th>\n",
       "      <td>The Godfather</td>\n",
       "      <td>13</td>\n",
       "    </tr>\n",
       "    <tr>\n",
       "      <th>2</th>\n",
       "      <td>The Godfather: Part II</td>\n",
       "      <td>22</td>\n",
       "    </tr>\n",
       "    <tr>\n",
       "      <th>3</th>\n",
       "      <td>The Dark Knight</td>\n",
       "      <td>15</td>\n",
       "    </tr>\n",
       "    <tr>\n",
       "      <th>4</th>\n",
       "      <td>Pulp Fiction</td>\n",
       "      <td>12</td>\n",
       "    </tr>\n",
       "  </tbody>\n",
       "</table>\n",
       "</div>"
      ],
      "text/plain": [
       "                      title  title_length\n",
       "0  The Shawshank Redemption            24\n",
       "1             The Godfather            13\n",
       "2    The Godfather: Part II            22\n",
       "3           The Dark Knight            15\n",
       "4              Pulp Fiction            12"
      ]
     },
     "execution_count": 3,
     "metadata": {},
     "output_type": "execute_result"
    }
   ],
   "source": [
    "# Add title length feature safely (doesn't mutate original)\n",
    "df = add_title_length_features(df_raw, title_column='title', length_column='title_length')\n",
    "\n",
    "# Create a new dataframe with only title and its length\n",
    "# Keep it small and focused for subsequent stats\n",
    "titles = df[[\"title\", \"title_length\"]].copy()\n",
    "\n",
    "# Show a sample\n",
    "titles.head()"
   ]
  },
  {
   "cell_type": "markdown",
   "id": "f0989c38",
   "metadata": {},
   "source": [
    "### 1.2. Central tendency measures\n",
    "\n",
    "Compute mean, median, and mode for title lengths."
   ]
  },
  {
   "cell_type": "code",
   "execution_count": 4,
   "id": "69664a9b",
   "metadata": {},
   "outputs": [
    {
     "name": "stdout",
     "output_type": "stream",
     "text": [
      "Mean title length: 15.48\n",
      "Median title length: 14.0\n",
      "Mode title length: 12\n"
     ]
    }
   ],
   "source": [
    "# Central tendency: mean, median, mode for title length\n",
    "lengths = titles[\"title_length\"]\n",
    "mean_len = lengths.mean()\n",
    "median_len = lengths.median()\n",
    "\n",
    "mode_result = mode(lengths, keepdims=True)\n",
    "mode_len = int(mode_result.mode[0]) if len(mode_result.mode) else None\n",
    "\n",
    "print(f\"Mean title length: {mean_len:.2f}\")\n",
    "print(f\"Median title length: {median_len}\")\n",
    "print(f\"Mode title length: {mode_len}\")"
   ]
  },
  {
   "cell_type": "markdown",
   "id": "61d5b953",
   "metadata": {},
   "source": [
    "### 1.3. Measures of spread\n",
    "\n",
    "Compute range, variance, and standard deviation (population, ddof=0) for title lengths."
   ]
  },
  {
   "cell_type": "code",
   "execution_count": 5,
   "id": "6b9a931c",
   "metadata": {},
   "outputs": [
    {
     "name": "stdout",
     "output_type": "stream",
     "text": [
      "Range: 67\n",
      "Variance: 72.11\n",
      "Std Dev: 8.49\n"
     ]
    }
   ],
   "source": [
    "# Spread: range, variance, standard deviation\n",
    "range_len = lengths.max() - lengths.min()\n",
    "var_len = lengths.var()\n",
    "std_len = lengths.std()\n",
    "\n",
    "print(f\"Range: {range_len}\")\n",
    "print(f\"Variance: {var_len:.2f}\")\n",
    "print(f\"Std Dev: {std_len:.2f}\")"
   ]
  },
  {
   "cell_type": "markdown",
   "id": "8ddc6952",
   "metadata": {},
   "source": [
    "### 1.4. Measure of shape\n",
    "\n",
    "Compute skewness and kurtosis (excess) to understand distribution shape."
   ]
  },
  {
   "cell_type": "code",
   "execution_count": 6,
   "id": "24f58bb6",
   "metadata": {},
   "outputs": [
    {
     "name": "stdout",
     "output_type": "stream",
     "text": [
      "Skewness: 1.523\n",
      "Kurtosis: 3.787\n"
     ]
    }
   ],
   "source": [
    "# Shape: skewness and kurtosis\n",
    "skewness = skew(lengths)\n",
    "kurt = kurtosis(lengths)\n",
    "\n",
    "print(f\"Skewness: {skewness:.3f}\")\n",
    "print(f\"Kurtosis: {kurt:.3f}\")"
   ]
  },
  {
   "cell_type": "markdown",
   "id": "3487fc67",
   "metadata": {},
   "source": [
    "### 1.5. Extreme Values\n",
    "\n",
    "Find shortest and longest titles based on character count."
   ]
  },
  {
   "cell_type": "code",
   "execution_count": 7,
   "id": "c0d09e68",
   "metadata": {},
   "outputs": [
    {
     "name": "stdout",
     "output_type": "stream",
     "text": [
      "Shortest length: 1 -> ['M']\n",
      "Longest length: 68 -> ['Dr. Strangelove or: How I Learned to Stop Worrying and Love the Bomb']\n"
     ]
    }
   ],
   "source": [
    "# Extreme values: shortest and longest titles\n",
    "min_len = lengths.min()\n",
    "max_len = lengths.max()\n",
    "\n",
    "shortest = titles[titles[\"title_length\"] == min_len][\"title\"].tolist()\n",
    "longest = titles[titles[\"title_length\"] == max_len][\"title\"].tolist()\n",
    "\n",
    "print(f\"Shortest length: {min_len} -> {shortest}\")\n",
    "print(f\"Longest length: {max_len} -> {longest}\")"
   ]
  },
  {
   "cell_type": "markdown",
   "id": "58ad294a",
   "metadata": {},
   "source": [
    "### 1.6. Visualization and Summary\n",
    "\n",
    "Plot a histogram with a KDE curve to visualize the distribution of title lengths."
   ]
  },
  {
   "cell_type": "code",
   "execution_count": 8,
   "id": "e86a1ced",
   "metadata": {},
   "outputs": [
    {
     "data": {
      "image/png": "[encoded data removed]",
      "text/plain": [
       "<Figure size 800x400 with 1 Axes>"
      ]
     },
     "metadata": {},
     "output_type": "display_data"
    }
   ],
   "source": [
    "# Visualization: histogram with density curve\n",
    "plt.figure(figsize=(8,4))\n",
    "ax = plt.gca()\n",
    "# Histogram\n",
    "n, bins, patches = ax.hist(lengths, bins=20, color=\"#69b3a2\", alpha=0.7, density=True, edgecolor=\"white\")\n",
    "\n",
    "# Overlay KDE on same axes\n",
    "lengths.plot(kind='kde', color='#333333', linewidth=2, ax=ax)\n",
    "\n",
    "ax.set_title(\"Distribution of Movie Title Lengths\")\n",
    "ax.set_xlabel(\"Title length (characters)\")\n",
    "ax.set_ylabel(\"Density\")\n",
    "plt.tight_layout()\n",
    "plt.show()"
   ]
  },
  {
   "cell_type": "markdown",
   "id": "eaf3ceb7",
   "metadata": {},
   "source": [
    "---\n",
    "\n",
    "## Exercise 2 – Manual Calculation of Standard Deviation\n",
    "\n",
    "In this exercise, you will manually calculate the standard deviation by selecting five actual titles from the movie dataset you loaded earlier.\n"
   ]
  },
  {
   "cell_type": "code",
   "execution_count": 9,
   "id": "3005c0f9",
   "metadata": {},
   "outputs": [
    {
     "name": "stdout",
     "output_type": "stream",
     "text": [
      "Sample of title lengths from the dataset:\n",
      "                                           title  title_length\n",
      "0                       The Shawshank Redemption            24\n",
      "1                                  The Godfather            13\n",
      "2                         The Godfather: Part II            22\n",
      "3                                The Dark Knight            15\n",
      "4                                   Pulp Fiction            12\n",
      "5                                   12 Angry Men            12\n",
      "6                 The Good, the Bad and the Ugly            30\n",
      "7  The Lord of the Rings: The Return of the King            45\n",
      "8                               Schindler's List            16\n",
      "9                                     Fight Club            10\n",
      "\n",
      "Selected 5 title lengths for manual calculation: [np.int64(24), np.int64(13), np.int64(22), np.int64(15), np.int64(12)]\n"
     ]
    }
   ],
   "source": [
    "# Create a list with 5 actual values from df['title_length'], for example: [10, 13, 14, 18, 22]\n",
    "# First, let's look at some sample title lengths from our dataset\n",
    "print(\"Sample of title lengths from the dataset:\")\n",
    "sample_titles = df[['title', 'title_length']].head(10)\n",
    "print(sample_titles)\n",
    "\n",
    "# Select 5 specific title length values from our dataset\n",
    "sample_lengths = [df['title_length'].iloc[0], df['title_length'].iloc[1], \n",
    "                 df['title_length'].iloc[2], df['title_length'].iloc[3], \n",
    "                 df['title_length'].iloc[4]]\n",
    "\n",
    "print(f\"\\nSelected 5 title lengths for manual calculation: {sample_lengths}\")"
   ]
  },
  {
   "cell_type": "markdown",
   "id": "f5096fbb",
   "metadata": {},
   "source": [
    "### 2.1. Sample mean\n",
    "\n",
    "Compute the arithmetic mean of the selected five title lengths."
   ]
  },
  {
   "cell_type": "code",
   "execution_count": 10,
   "id": "d96b771f",
   "metadata": {},
   "outputs": [
    {
     "name": "stdout",
     "output_type": "stream",
     "text": [
      "Values: [np.int64(24), np.int64(13), np.int64(22), np.int64(15), np.int64(12)]\n",
      "Sum of values: 86\n",
      "Number of values: 5\n",
      "Mean = 86 / 5 = 17.20\n"
     ]
    }
   ],
   "source": [
    "# Calculate the mean of the 5 values\n",
    "# Mean = sum of all values divided by the number of values\n",
    "sample_mean = sum(sample_lengths) / len(sample_lengths)\n",
    "\n",
    "print(f\"Values: {sample_lengths}\")\n",
    "print(f\"Sum of values: {sum(sample_lengths)}\")\n",
    "print(f\"Number of values: {len(sample_lengths)}\")\n",
    "print(f\"Mean = {sum(sample_lengths)} / {len(sample_lengths)} = {sample_mean:.2f}\")"
   ]
  },
  {
   "cell_type": "markdown",
   "id": "c69db5ec",
   "metadata": {},
   "source": [
    "### 2.2. Calculate Squared Differences\n",
    "\n",
    "For each value, compute (value − mean)² to measure dispersion from the mean."
   ]
  },
  {
   "cell_type": "code",
   "execution_count": 11,
   "id": "346d0dc5",
   "metadata": {},
   "outputs": [
    {
     "name": "stdout",
     "output_type": "stream",
     "text": [
      "Calculating squared differences:\n",
      "Mean = 17.20\n",
      "\n",
      "Value 1: 24\n",
      "  Difference from mean: 24 - 17.20 = 6.80\n",
      "  Squared difference: (6.80)² = 46.24\n",
      "\n",
      "Value 2: 13\n",
      "  Difference from mean: 13 - 17.20 = -4.20\n",
      "  Squared difference: (-4.20)² = 17.64\n",
      "\n",
      "Value 3: 22\n",
      "  Difference from mean: 22 - 17.20 = 4.80\n",
      "  Squared difference: (4.80)² = 23.04\n",
      "\n",
      "Value 4: 15\n",
      "  Difference from mean: 15 - 17.20 = -2.20\n",
      "  Squared difference: (-2.20)² = 4.84\n",
      "\n",
      "Value 5: 12\n",
      "  Difference from mean: 12 - 17.20 = -5.20\n",
      "  Squared difference: (-5.20)² = 27.04\n",
      "\n",
      "Squared differences: [46.24, 17.64, 23.04, 4.84, 27.04]\n",
      "Sum of squared differences: 118.80\n"
     ]
    }
   ],
   "source": [
    "# Calculate the squared differences with respect to the mean\n",
    "# For each value, calculate: (value - mean)²\n",
    "squared_differences = []\n",
    "\n",
    "print(\"Calculating squared differences:\")\n",
    "print(f\"Mean = {sample_mean:.2f}\")\n",
    "print()\n",
    "\n",
    "for i, value in enumerate(sample_lengths):\n",
    "    difference = value - sample_mean\n",
    "    squared_diff = difference ** 2\n",
    "    squared_differences.append(squared_diff)\n",
    "    print(f\"Value {i+1}: {value}\")\n",
    "    print(f\"  Difference from mean: {value} - {sample_mean:.2f} = {difference:.2f}\")\n",
    "    print(f\"  Squared difference: ({difference:.2f})² = {squared_diff:.2f}\")\n",
    "    print()\n",
    "\n",
    "print(f\"Squared differences: {[round(float(x), 2) for x in squared_differences]}\")\n",
    "print(f\"Sum of squared differences: {sum(squared_differences):.2f}\")"
   ]
  },
  {
   "cell_type": "markdown",
   "id": "02f59018",
   "metadata": {},
   "source": [
    "### 2.3. Variance and Standard Deviation\n",
    "\n",
    "Average the squared differences to get variance, then take the square root for standard deviation."
   ]
  },
  {
   "cell_type": "code",
   "execution_count": 12,
   "id": "f56517ff",
   "metadata": {},
   "outputs": [
    {
     "name": "stdout",
     "output_type": "stream",
     "text": [
      "MANUAL STANDARD DEVIATION CALCULATION:\n",
      "Sum of squared differences: 118.80\n",
      "Number of values: 5\n",
      "Variance = 118.80 / 5 = 23.76\n",
      "Standard deviation = √23.76 = 4.87\n",
      "\n",
      "VERIFICATION:\n",
      "Manual calculation: 4.87\n",
      "NumPy calculation: 4.87\n",
      "Pandas calculation: 5.45\n",
      "\n",
      "Note: Small differences may occur due to sample vs population standard deviation formulas\n"
     ]
    }
   ],
   "source": [
    "# Calculate the variance (average of the squared differences) and its square root to obtain the standard deviation\n",
    "# Variance = sum of squared differences / number of values\n",
    "# Standard deviation = square root of variance\n",
    "\n",
    "# Calculate variance\n",
    "variance = sum(squared_differences) / len(squared_differences)\n",
    "\n",
    "# Calculate standard deviation\n",
    "std_deviation = math.sqrt(variance)\n",
    "\n",
    "print(\"MANUAL STANDARD DEVIATION CALCULATION:\")\n",
    "print(f\"Sum of squared differences: {sum(squared_differences):.2f}\")\n",
    "print(f\"Number of values: {len(squared_differences)}\")\n",
    "print(f\"Variance = {sum(squared_differences):.2f} / {len(squared_differences)} = {variance:.2f}\")\n",
    "print(f\"Standard deviation = √{variance:.2f} = {std_deviation:.2f}\")\n",
    "\n",
    "print(\"\\nVERIFICATION:\")\n",
    "print(f\"Manual calculation: {std_deviation:.2f}\")\n",
    "print(f\"NumPy calculation: {np.std(sample_lengths):.2f}\")\n",
    "print(f\"Pandas calculation: {pd.Series(sample_lengths).std():.2f}\")\n",
    "\n",
    "# Note: Pandas uses sample standard deviation (n-1) by default, NumPy uses population std (n)\n",
    "print(f\"\\nNote: Small differences may occur due to sample vs population standard deviation formulas\")"
   ]
  }
 ],
 "metadata": {
  "kernelspec": {
   "display_name": "Python 3",
   "language": "python",
   "name": "python3"
  },
  "language_info": {
   "codemirror_mode": {
    "name": "ipython",
    "version": 3
   },
   "file_extension": ".py",
   "mimetype": "text/x-python",
   "name": "python",
   "nbconvert_exporter": "python",
   "pygments_lexer": "ipython3",
   "version": "3.11.4"
  }
 },
 "nbformat": 4,
 "nbformat_minor": 5
}
