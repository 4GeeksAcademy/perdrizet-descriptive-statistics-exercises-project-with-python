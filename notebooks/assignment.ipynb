{
 "cells": [
  {
   "cell_type": "markdown",
   "id": "6805e3f1",
   "metadata": {},
   "source": [
    "# Descriptive Statistics Problems\n",
    "\n",
    "## Notebook set-up\n"
   ]
  },
  {
   "cell_type": "code",
   "execution_count": null,
   "id": "61ddee05",
   "metadata": {},
   "outputs": [],
   "source": [
    "# Import libraries\n",
    "import math\n",
    "import pandas as pd\n",
    "import numpy as np\n",
    "import matplotlib.pyplot as plt\n",
    "from scipy.stats import skew, kurtosis, mode"
   ]
  },
  {
   "cell_type": "markdown",
   "id": "3b6e083e",
   "metadata": {},
   "source": [
    "## Data loading"
   ]
  },
  {
   "cell_type": "code",
   "execution_count": null,
   "id": "ca3d2c0a",
   "metadata": {},
   "outputs": [],
   "source": [
    "# Load IMDb dataset\n",
    "url = \"../data/imdb_1000.csv\"\n",
    "df = pd.read_csv(url)\n",
    "df.head()"
   ]
  },
  {
   "cell_type": "markdown",
   "id": "19b92e73",
   "metadata": {},
   "source": [
    "## Exercise 1 – How long are movie titles?\n",
    "\n",
    "In this exercise, you will apply descriptive statistics techniques to a real dataset: a database of 1000 popular movies from the IMDb website.\n",
    "\n",
    "From the title of each movie, you will:\n",
    "- Calculate the title length (in characters).\n",
    "- Obtain key statistical metrics: mean, median, mode, range, variance, standard deviation, skewness, and kurtosis.\n",
    "- Identify the longest and shortest titles.\n",
    "- Visualize the distribution of these lengths with a histogram and a density curve."
   ]
  },
  {
   "cell_type": "markdown",
   "id": "58c89bf9",
   "metadata": {},
   "source": [
    "### 1.1. Create Title Length Column"
   ]
  },
  {
   "cell_type": "code",
   "execution_count": null,
   "id": "cae9c2e7",
   "metadata": {},
   "outputs": [],
   "source": [
    "# Create a new dataframe which contains two columns: the movie title and the title's length in characters\n"
   ]
  },
  {
   "cell_type": "markdown",
   "id": "f0989c38",
   "metadata": {},
   "source": [
    "### 1.2. Central tendency measures"
   ]
  },
  {
   "cell_type": "code",
   "execution_count": null,
   "id": "69664a9b",
   "metadata": {},
   "outputs": [],
   "source": [
    "# Calculate the mean and median and mode of title length"
   ]
  },
  {
   "cell_type": "markdown",
   "id": "61d5b953",
   "metadata": {},
   "source": [
    "### 1.3. Measures of spread"
   ]
  },
  {
   "cell_type": "code",
   "execution_count": null,
   "id": "6b9a931c",
   "metadata": {},
   "outputs": [],
   "source": [
    "# Calculate the range, variance and standard deviation of title length\n"
   ]
  },
  {
   "cell_type": "markdown",
   "id": "8ddc6952",
   "metadata": {},
   "source": [
    "### 1.4. Measure of shape"
   ]
  },
  {
   "cell_type": "code",
   "execution_count": null,
   "id": "24f58bb6",
   "metadata": {},
   "outputs": [],
   "source": [
    "# Calculate the skewness and kurtosis of title length"
   ]
  },
  {
   "cell_type": "markdown",
   "id": "3487fc67",
   "metadata": {},
   "source": [
    "### 1.5. Extreme Values"
   ]
  },
  {
   "cell_type": "code",
   "execution_count": null,
   "id": "c0d09e68",
   "metadata": {},
   "outputs": [],
   "source": [
    "# Find the shortest and longest title based on their length\n"
   ]
  },
  {
   "cell_type": "markdown",
   "id": "58ad294a",
   "metadata": {},
   "source": [
    "### 1.6. Visualization and Summary"
   ]
  },
  {
   "cell_type": "code",
   "execution_count": null,
   "id": "e86a1ced",
   "metadata": {},
   "outputs": [],
   "source": [
    "# Create a histogram showing the distribution of title lengths\n"
   ]
  },
  {
   "cell_type": "markdown",
   "id": "eaf3ceb7",
   "metadata": {},
   "source": [
    "---\n",
    "\n",
    "## Exercise 2 – Manual Calculation of Standard Deviation\n",
    "\n",
    "In this exercise, you will manually calculate the standard deviation by selecting five actual titles from the movie dataset you loaded earlier.\n"
   ]
  },
  {
   "cell_type": "code",
   "execution_count": null,
   "id": "3005c0f9",
   "metadata": {},
   "outputs": [],
   "source": [
    "# Create a list with 5 actual values from df['title_length'], for example: [10, 13, 14, 18, 22]\n"
   ]
  },
  {
   "cell_type": "markdown",
   "id": "f5096fbb",
   "metadata": {},
   "source": [
    "### 2.1. Sample mean"
   ]
  },
  {
   "cell_type": "code",
   "execution_count": null,
   "id": "d96b771f",
   "metadata": {},
   "outputs": [],
   "source": [
    "# Calculate the mean of the 5 values\n"
   ]
  },
  {
   "cell_type": "markdown",
   "id": "c69db5ec",
   "metadata": {},
   "source": [
    "### 2.2. Calculate Squared Differences"
   ]
  },
  {
   "cell_type": "code",
   "execution_count": null,
   "id": "346d0dc5",
   "metadata": {},
   "outputs": [],
   "source": [
    "# Calculate the squared differences with respect to the mean\n"
   ]
  },
  {
   "cell_type": "markdown",
   "id": "02f59018",
   "metadata": {},
   "source": [
    "### 2.3. Variance and Standard Deviation"
   ]
  },
  {
   "cell_type": "code",
   "execution_count": null,
   "id": "f56517ff",
   "metadata": {},
   "outputs": [],
   "source": [
    "# Calculate the variance (average of the squared differences) and its square root to obtain the standard deviation\n"
   ]
  }
 ],
 "metadata": {
  "kernelspec": {
   "display_name": "Python 3",
   "language": "python",
   "name": "python3"
  },
  "language_info": {
   "codemirror_mode": {
    "name": "ipython",
    "version": 3
   },
   "file_extension": ".py",
   "mimetype": "text/x-python",
   "name": "python",
   "nbconvert_exporter": "python",
   "pygments_lexer": "ipython3",
   "version": "3.11.4"
  }
 },
 "nbformat": 4,
 "nbformat_minor": 5
}
